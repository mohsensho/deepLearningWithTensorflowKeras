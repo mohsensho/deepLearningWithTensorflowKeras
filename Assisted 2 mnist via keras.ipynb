{
 "cells": [
  {
   "cell_type": "markdown",
   "metadata": {},
   "source": [
    "## Mnist version 2: using usual keras \"add\" to build nn"
   ]
  },
  {
   "cell_type": "markdown",
   "metadata": {},
   "source": [
    "### Import Libraries"
   ]
  },
  {
   "cell_type": "code",
   "execution_count": 7,
   "metadata": {},
   "outputs": [],
   "source": [
    "from __future__ import print_function\n",
    "\n",
    "import keras\n",
    "from keras.datasets import mnist\n",
    "from keras.models import Sequential\n",
    "from keras.layers import Dense, Dropout\n",
    "from keras.optimizers import RMSprop"
   ]
  },
  {
   "cell_type": "code",
   "execution_count": 20,
   "metadata": {},
   "outputs": [],
   "source": [
    "import numpy as np\n",
    "import matplotlib.pyplot as plt"
   ]
  },
  {
   "cell_type": "markdown",
   "metadata": {},
   "source": [
    "### Defining batch size, classes and epochs"
   ]
  },
  {
   "cell_type": "code",
   "execution_count": 8,
   "metadata": {},
   "outputs": [],
   "source": [
    "batch_size = 128\n",
    "num_classes = 10\n",
    "epochs = 20"
   ]
  },
  {
   "cell_type": "markdown",
   "metadata": {},
   "source": [
    "### The data, split between train and test sets"
   ]
  },
  {
   "cell_type": "code",
   "execution_count": 9,
   "metadata": {},
   "outputs": [],
   "source": [
    "(x_train, y_train), (x_test, y_test) = mnist.load_data()\n",
    "\n",
    "x_train = x_train.reshape(60000, 784)\n",
    "x_test = x_test.reshape(10000, 784)\n",
    "x_train = x_train.astype('float32')\n",
    "x_test = x_test.astype('float32')\n",
    "x_train /= 255\n",
    "x_test /= 255"
   ]
  },
  {
   "cell_type": "markdown",
   "metadata": {},
   "source": [
    "### Print the shape of the data"
   ]
  },
  {
   "cell_type": "code",
   "execution_count": 10,
   "metadata": {},
   "outputs": [
    {
     "name": "stdout",
     "output_type": "stream",
     "text": [
      "60000 train samples\n",
      "10000 test samples\n"
     ]
    }
   ],
   "source": [
    "print(x_train.shape[0], 'train samples')\n",
    "print(x_test.shape[0], 'test samples')"
   ]
  },
  {
   "cell_type": "markdown",
   "metadata": {},
   "source": [
    "### Convert class vectors to binary class matrices"
   ]
  },
  {
   "cell_type": "code",
   "execution_count": 11,
   "metadata": {},
   "outputs": [],
   "source": [
    "y_train = keras.utils.to_categorical(y_train, num_classes)\n",
    "y_test = keras.utils.to_categorical(y_test, num_classes)"
   ]
  },
  {
   "cell_type": "markdown",
   "metadata": {},
   "source": [
    "### Build the model"
   ]
  },
  {
   "cell_type": "code",
   "execution_count": 12,
   "metadata": {},
   "outputs": [
    {
     "name": "stdout",
     "output_type": "stream",
     "text": [
      "Metal device set to: Apple M1 Max\n",
      "\n",
      "systemMemory: 64.00 GB\n",
      "maxCacheSize: 24.00 GB\n",
      "\n"
     ]
    },
    {
     "name": "stderr",
     "output_type": "stream",
     "text": [
      "2023-01-14 09:14:46.047241: I tensorflow/core/common_runtime/pluggable_device/pluggable_device_factory.cc:306] Could not identify NUMA node of platform GPU ID 0, defaulting to 0. Your kernel may not have been built with NUMA support.\n",
      "2023-01-14 09:14:46.047674: I tensorflow/core/common_runtime/pluggable_device/pluggable_device_factory.cc:272] Created TensorFlow device (/job:localhost/replica:0/task:0/device:GPU:0 with 0 MB memory) -> physical PluggableDevice (device: 0, name: METAL, pci bus id: <undefined>)\n"
     ]
    },
    {
     "name": "stdout",
     "output_type": "stream",
     "text": [
      "Model: \"sequential\"\n",
      "_________________________________________________________________\n",
      " Layer (type)                Output Shape              Param #   \n",
      "=================================================================\n",
      " dense (Dense)               (None, 512)               401920    \n",
      "                                                                 \n",
      " dropout (Dropout)           (None, 512)               0         \n",
      "                                                                 \n",
      " dense_1 (Dense)             (None, 512)               262656    \n",
      "                                                                 \n",
      " dropout_1 (Dropout)         (None, 512)               0         \n",
      "                                                                 \n",
      " dense_2 (Dense)             (None, 10)                5130      \n",
      "                                                                 \n",
      "=================================================================\n",
      "Total params: 669,706\n",
      "Trainable params: 669,706\n",
      "Non-trainable params: 0\n",
      "_________________________________________________________________\n"
     ]
    }
   ],
   "source": [
    "model = Sequential()\n",
    "model.add(Dense(512, activation='relu', input_shape=(784,)))\n",
    "model.add(Dropout(0.2))\n",
    "model.add(Dense(512, activation='relu'))\n",
    "model.add(Dropout(0.2))\n",
    "model.add(Dense(num_classes, activation='softmax'))\n",
    "\n",
    "model.summary()"
   ]
  },
  {
   "cell_type": "markdown",
   "metadata": {},
   "source": [
    "### Compile the model"
   ]
  },
  {
   "cell_type": "code",
   "execution_count": 13,
   "metadata": {},
   "outputs": [],
   "source": [
    "model.compile(loss='categorical_crossentropy',\n",
    "              optimizer=RMSprop(),\n",
    "              metrics=['accuracy'])"
   ]
  },
  {
   "cell_type": "code",
   "execution_count": 14,
   "metadata": {},
   "outputs": [
    {
     "data": {
      "text/plain": [
       "[<keras.layers.core.dense.Dense at 0x29703fcd0>,\n",
       " <keras.layers.regularization.dropout.Dropout at 0x17748a4f0>,\n",
       " <keras.layers.core.dense.Dense at 0x1774af100>,\n",
       " <keras.layers.regularization.dropout.Dropout at 0x296ec3cd0>,\n",
       " <keras.layers.core.dense.Dense at 0x296f3eac0>]"
      ]
     },
     "execution_count": 14,
     "metadata": {},
     "output_type": "execute_result"
    }
   ],
   "source": [
    "model.layers"
   ]
  },
  {
   "cell_type": "code",
   "execution_count": 15,
   "metadata": {},
   "outputs": [
    {
     "data": {
      "text/plain": [
       "{'name': 'dense',\n",
       " 'trainable': True,\n",
       " 'dtype': 'float32',\n",
       " 'batch_input_shape': (None, 784),\n",
       " 'units': 512,\n",
       " 'activation': 'relu',\n",
       " 'use_bias': True,\n",
       " 'kernel_initializer': {'class_name': 'GlorotUniform',\n",
       "  'config': {'seed': None}},\n",
       " 'bias_initializer': {'class_name': 'Zeros', 'config': {}},\n",
       " 'kernel_regularizer': None,\n",
       " 'bias_regularizer': None,\n",
       " 'activity_regularizer': None,\n",
       " 'kernel_constraint': None,\n",
       " 'bias_constraint': None}"
      ]
     },
     "execution_count": 15,
     "metadata": {},
     "output_type": "execute_result"
    }
   ],
   "source": [
    "model.layers[0].get_config()"
   ]
  },
  {
   "cell_type": "markdown",
   "metadata": {},
   "source": [
    "### Fit the model"
   ]
  },
  {
   "cell_type": "code",
   "execution_count": 16,
   "metadata": {},
   "outputs": [
    {
     "name": "stdout",
     "output_type": "stream",
     "text": [
      "Epoch 1/20\n"
     ]
    },
    {
     "name": "stderr",
     "output_type": "stream",
     "text": [
      "2023-01-14 09:14:46.578045: W tensorflow/tsl/platform/profile_utils/cpu_utils.cc:128] Failed to get CPU frequency: 0 Hz\n",
      "2023-01-14 09:14:46.947590: I tensorflow/core/grappler/optimizers/custom_graph_optimizer_registry.cc:114] Plugin optimizer for device_type GPU is enabled.\n"
     ]
    },
    {
     "name": "stdout",
     "output_type": "stream",
     "text": [
      "469/469 [==============================] - ETA: 0s - loss: 0.2416 - accuracy: 0.9262"
     ]
    },
    {
     "name": "stderr",
     "output_type": "stream",
     "text": [
      "2023-01-14 09:14:54.775255: I tensorflow/core/grappler/optimizers/custom_graph_optimizer_registry.cc:114] Plugin optimizer for device_type GPU is enabled.\n"
     ]
    },
    {
     "name": "stdout",
     "output_type": "stream",
     "text": [
      "469/469 [==============================] - 9s 13ms/step - loss: 0.2416 - accuracy: 0.9262 - val_loss: 0.0943 - val_accuracy: 0.9698\n",
      "Epoch 2/20\n",
      "469/469 [==============================] - 5s 11ms/step - loss: 0.0987 - accuracy: 0.9699 - val_loss: 0.0804 - val_accuracy: 0.9755\n",
      "Epoch 3/20\n",
      "469/469 [==============================] - 5s 12ms/step - loss: 0.0740 - accuracy: 0.9778 - val_loss: 0.0831 - val_accuracy: 0.9768\n",
      "Epoch 4/20\n",
      "469/469 [==============================] - 5s 12ms/step - loss: 0.0585 - accuracy: 0.9823 - val_loss: 0.0791 - val_accuracy: 0.9774\n",
      "Epoch 5/20\n",
      "469/469 [==============================] - 5s 11ms/step - loss: 0.0479 - accuracy: 0.9859 - val_loss: 0.0781 - val_accuracy: 0.9797\n",
      "Epoch 6/20\n",
      "469/469 [==============================] - 6s 12ms/step - loss: 0.0414 - accuracy: 0.9873 - val_loss: 0.0757 - val_accuracy: 0.9820\n",
      "Epoch 7/20\n",
      "469/469 [==============================] - 6s 12ms/step - loss: 0.0358 - accuracy: 0.9888 - val_loss: 0.0785 - val_accuracy: 0.9820\n",
      "Epoch 8/20\n",
      "469/469 [==============================] - 6s 12ms/step - loss: 0.0339 - accuracy: 0.9903 - val_loss: 0.0683 - val_accuracy: 0.9850\n",
      "Epoch 9/20\n",
      "469/469 [==============================] - 6s 12ms/step - loss: 0.0291 - accuracy: 0.9916 - val_loss: 0.1010 - val_accuracy: 0.9806\n",
      "Epoch 10/20\n",
      "469/469 [==============================] - 6s 12ms/step - loss: 0.0270 - accuracy: 0.9920 - val_loss: 0.0886 - val_accuracy: 0.9829\n",
      "Epoch 11/20\n",
      "469/469 [==============================] - 6s 12ms/step - loss: 0.0240 - accuracy: 0.9930 - val_loss: 0.1147 - val_accuracy: 0.9812\n",
      "Epoch 12/20\n",
      "469/469 [==============================] - 6s 12ms/step - loss: 0.0243 - accuracy: 0.9938 - val_loss: 0.0962 - val_accuracy: 0.9844\n",
      "Epoch 13/20\n",
      "469/469 [==============================] - 6s 12ms/step - loss: 0.0222 - accuracy: 0.9938 - val_loss: 0.1037 - val_accuracy: 0.9824\n",
      "Epoch 14/20\n",
      "469/469 [==============================] - 6s 12ms/step - loss: 0.0206 - accuracy: 0.9941 - val_loss: 0.1270 - val_accuracy: 0.9817\n",
      "Epoch 15/20\n",
      "469/469 [==============================] - 5s 12ms/step - loss: 0.0205 - accuracy: 0.9948 - val_loss: 0.1297 - val_accuracy: 0.9829\n",
      "Epoch 16/20\n",
      "469/469 [==============================] - 6s 12ms/step - loss: 0.0194 - accuracy: 0.9947 - val_loss: 0.1196 - val_accuracy: 0.9830\n",
      "Epoch 17/20\n",
      "469/469 [==============================] - 6s 12ms/step - loss: 0.0164 - accuracy: 0.9954 - val_loss: 0.1189 - val_accuracy: 0.9832\n",
      "Epoch 18/20\n",
      "469/469 [==============================] - 5s 11ms/step - loss: 0.0163 - accuracy: 0.9958 - val_loss: 0.1121 - val_accuracy: 0.9838\n",
      "Epoch 19/20\n",
      "469/469 [==============================] - 5s 11ms/step - loss: 0.0164 - accuracy: 0.9957 - val_loss: 0.1283 - val_accuracy: 0.9835\n",
      "Epoch 20/20\n",
      "469/469 [==============================] - 5s 11ms/step - loss: 0.0145 - accuracy: 0.9964 - val_loss: 0.1439 - val_accuracy: 0.9844\n"
     ]
    }
   ],
   "source": [
    "history = model.fit(x_train, y_train,\n",
    "                    batch_size=batch_size,\n",
    "                    epochs=epochs,\n",
    "                    verbose=1,\n",
    "                    validation_data=(x_test, y_test))\n",
    "score = model.evaluate(x_test, y_test, verbose=0)"
   ]
  },
  {
   "cell_type": "code",
   "execution_count": 17,
   "metadata": {},
   "outputs": [
    {
     "data": {
      "text/plain": [
       "[<tf.Variable 'dense/kernel:0' shape=(784, 512) dtype=float32, numpy=\n",
       " array([[ 0.03268204, -0.04718146, -0.0353151 , ...,  0.06793372,\n",
       "         -0.02742421,  0.01231943],\n",
       "        [ 0.01651284,  0.02669697,  0.00234345, ..., -0.01581071,\n",
       "          0.05618615, -0.05851312],\n",
       "        [ 0.06441845, -0.02885208, -0.01582188, ..., -0.02571022,\n",
       "         -0.02989827,  0.00072873],\n",
       "        ...,\n",
       "        [ 0.00133935, -0.06652056, -0.03448009, ..., -0.04591044,\n",
       "         -0.05209217, -0.06269248],\n",
       "        [ 0.01379618,  0.00919736, -0.04218354, ..., -0.06632756,\n",
       "         -0.05803122,  0.04441919],\n",
       "        [-0.02435067,  0.05823933, -0.01036446, ...,  0.00463118,\n",
       "          0.0141315 , -0.01768737]], dtype=float32)>,\n",
       " <tf.Variable 'dense/bias:0' shape=(512,) dtype=float32, numpy=\n",
       " array([-0.18638927, -0.06551787, -0.00155285, -0.10204244, -0.05675367,\n",
       "        -0.01390785, -0.09750003, -0.10470088, -0.08887363, -0.07631937,\n",
       "        -0.11662559, -0.05498279,  0.01002481, -0.0676147 , -0.05951777,\n",
       "        -0.12009448,  0.02317941,  0.00636397, -0.18491095, -0.10976094,\n",
       "        -0.11917332, -0.05590764, -0.00472319, -0.00818126, -0.19786836,\n",
       "        -0.13799754, -0.13264921, -0.04216783, -0.02752893, -0.07298855,\n",
       "        -0.03773997,  0.06740502, -0.06043749,  0.01549122,  0.00469249,\n",
       "         0.00407214, -0.079274  , -0.13759835, -0.04534216, -0.0731108 ,\n",
       "        -0.16665983, -0.04511469,  0.03919025, -0.12702882, -0.13355383,\n",
       "        -0.05708353, -0.14183705, -0.10257047, -0.04602862, -0.0988922 ,\n",
       "        -0.10390178, -0.1102524 , -0.20590015, -0.09052776,  0.04079101,\n",
       "        -0.18767019, -0.06373207, -0.06722126, -0.13687989, -0.12945747,\n",
       "        -0.03494255, -0.03410303, -0.07561317, -0.01102921,  0.0298746 ,\n",
       "         0.01393413, -0.12059384, -0.0122512 , -0.07367454, -0.1173396 ,\n",
       "        -0.04766044, -0.01476523, -0.05181264, -0.08481924, -0.12307274,\n",
       "        -0.06331652, -0.07208922, -0.05521738, -0.02387729, -0.14025626,\n",
       "        -0.08910103, -0.0422322 , -0.02721921, -0.01969858, -0.08749537,\n",
       "        -0.019366  ,  0.00985178, -0.10453364, -0.16464426, -0.03054143,\n",
       "         0.00999775, -0.10895382, -0.00269863, -0.002405  , -0.17217831,\n",
       "         0.01044168, -0.14928925, -0.07987892, -0.0875878 , -0.07657025,\n",
       "        -0.04209657, -0.02817432, -0.12163197, -0.07390183, -0.08849321,\n",
       "        -0.07648177,  0.03025814, -0.15917155,  0.0131884 , -0.05953974,\n",
       "        -0.08710664, -0.0806657 , -0.02469251,  0.04132852, -0.0323839 ,\n",
       "        -0.02385872, -0.13700628, -0.22554453, -0.00221086, -0.04570612,\n",
       "        -0.12275686, -0.10742421, -0.10019423, -0.05189648, -0.06499058,\n",
       "        -0.04688843, -0.09236073, -0.11355373, -0.13262786, -0.05738569,\n",
       "        -0.01492898, -0.03624114, -0.1794502 , -0.04589798, -0.05724506,\n",
       "        -0.07577442, -0.11004129, -0.12023401, -0.04146949, -0.06128753,\n",
       "        -0.180509  , -0.06878171, -0.04464813, -0.16196994, -0.08979893,\n",
       "        -0.2444717 , -0.05504507, -0.01758675, -0.10969871,  0.01873474,\n",
       "        -0.01157256, -0.01707848, -0.02788179, -0.03531775, -0.03139779,\n",
       "        -0.1590487 ,  0.07011572, -0.1953268 , -0.08906858,  0.05638714,\n",
       "        -0.14887498, -0.09733341, -0.18991376, -0.02174583, -0.16036725,\n",
       "        -0.0289392 , -0.11618541, -0.02255569, -0.08666441, -0.08506056,\n",
       "        -0.03695389, -0.14214219, -0.16038904,  0.00907448, -0.01555524,\n",
       "        -0.09056663, -0.08394986, -0.10055791, -0.01530131, -0.04862469,\n",
       "        -0.14978287, -0.11967503, -0.08148548, -0.0508051 , -0.10546172,\n",
       "        -0.05322275, -0.08520756, -0.11112596,  0.00055164, -0.04205859,\n",
       "        -0.01903928, -0.01058072, -0.00574391,  0.02575458, -0.02121081,\n",
       "         0.01164149, -0.07466554, -0.09773514, -0.07414549, -0.02509293,\n",
       "        -0.12345347,  0.02711994,  0.05661733, -0.04813265,  0.00135754,\n",
       "        -0.0346524 , -0.10443286,  0.07950512, -0.0259877 ,  0.08466054,\n",
       "        -0.03714221, -0.08375897, -0.03443274,  0.0095525 , -0.00203386,\n",
       "         0.0234279 , -0.10793996, -0.0816158 , -0.09922484, -0.14290346,\n",
       "        -0.22449757, -0.0694325 , -0.13869032, -0.02453901, -0.04804268,\n",
       "        -0.02720081, -0.1013301 ,  0.01171883,  0.06650723, -0.21781473,\n",
       "        -0.04504205, -0.14755912, -0.13006546, -0.03458033, -0.2052539 ,\n",
       "        -0.1820221 , -0.08327375, -0.10702733,  0.01037527, -0.03880654,\n",
       "         0.01517972, -0.11673924,  0.03975017, -0.13799803, -0.13488223,\n",
       "        -0.07553441,  0.01874616, -0.00173358, -0.10601307,  0.02026927,\n",
       "         0.08413401, -0.15854158, -0.01166687,  0.00465246, -0.1784878 ,\n",
       "        -0.10980751, -0.09616636, -0.05781631, -0.1193699 , -0.03686959,\n",
       "        -0.14021961, -0.07842488, -0.12094659, -0.1882856 , -0.04031548,\n",
       "        -0.11088967, -0.19589853, -0.14473407, -0.08983409, -0.14607255,\n",
       "         0.05271671, -0.11727335, -0.0029473 ,  0.00680739,  0.00380549,\n",
       "        -0.14336672, -0.00569709,  0.00326326, -0.05530694, -0.05327132,\n",
       "        -0.01891847, -0.09531844, -0.01838524, -0.00842782,  0.09125827,\n",
       "        -0.04947651, -0.18847781, -0.00627848, -0.09040348, -0.08161212,\n",
       "         0.01447131, -0.00267434, -0.151909  , -0.00116389, -0.05822599,\n",
       "        -0.0514666 , -0.17619501, -0.00438523, -0.05930287,  0.0065067 ,\n",
       "        -0.08714511,  0.11255666, -0.10129792, -0.01620313, -0.06489161,\n",
       "        -0.08728027, -0.15684758, -0.03580384, -0.12891662, -0.03455655,\n",
       "        -0.05533545, -0.03952145, -0.10720509, -0.10894828, -0.03628977,\n",
       "        -0.05206445, -0.1227379 , -0.06813669, -0.05042354, -0.1279657 ,\n",
       "        -0.02548737, -0.06697018, -0.01207024, -0.08564544, -0.11682647,\n",
       "        -0.13690205,  0.0362902 , -0.14577821, -0.05032368, -0.01584393,\n",
       "        -0.09530953, -0.04072807, -0.00181597, -0.02879712, -0.02555226,\n",
       "         0.14144765, -0.04438273, -0.02925061, -0.13803962, -0.09643293,\n",
       "        -0.05704355, -0.05326327, -0.13069725, -0.10404735, -0.01318795,\n",
       "        -0.04350106, -0.08987272, -0.05522148, -0.15628555, -0.07982914,\n",
       "        -0.11819724, -0.11435673, -0.09930597, -0.01687784, -0.1089592 ,\n",
       "        -0.11264383, -0.01368359, -0.05511418, -0.04551272, -0.03409828,\n",
       "        -0.11063431, -0.09753087, -0.03055095, -0.05158208, -0.11042085,\n",
       "        -0.02661741, -0.17217457, -0.04626448, -0.03322074, -0.04675058,\n",
       "        -0.01484593, -0.06108775, -0.03253439, -0.00866859, -0.05172094,\n",
       "        -0.13369088,  0.02876942, -0.1359391 , -0.24157608, -0.1035696 ,\n",
       "        -0.07822003, -0.14312378, -0.12987329, -0.12213436, -0.06369013,\n",
       "        -0.11534718, -0.03632938, -0.21073082, -0.11662924, -0.1797679 ,\n",
       "         0.08672472, -0.02010612, -0.01656201, -0.03479551, -0.05645085,\n",
       "        -0.03188067, -0.06216609, -0.20961395,  0.03357829, -0.08428541,\n",
       "        -0.07495355, -0.10907148, -0.07561478, -0.01520238, -0.16565548,\n",
       "        -0.00775183, -0.130083  , -0.08429949, -0.03243536, -0.14169306,\n",
       "        -0.04543628, -0.02607957, -0.11768691, -0.09879085, -0.15142782,\n",
       "         0.07717381,  0.29798377, -0.10874823, -0.00666177, -0.04469943,\n",
       "        -0.05847398, -0.06977271, -0.13765833, -0.07742865, -0.04729557,\n",
       "        -0.09492498, -0.05633348, -0.06559147, -0.15277743,  0.06177813,\n",
       "        -0.01910298, -0.00152543, -0.03764203, -0.13591616, -0.23219377,\n",
       "         0.0215908 , -0.00217565, -0.2054441 , -0.00838383,  0.00966892,\n",
       "        -0.08190043, -0.04241427, -0.00856475, -0.05353656, -0.08371833,\n",
       "        -0.17489801, -0.01595807, -0.04705567, -0.12927538, -0.02391809,\n",
       "        -0.09335878, -0.01320877,  0.01530002, -0.13081679, -0.14666869,\n",
       "        -0.07565038, -0.04230231, -0.03021765, -0.08103991, -0.06517211,\n",
       "        -0.10497374, -0.06806177, -0.0844051 , -0.11544051, -0.13318193,\n",
       "         0.00232228, -0.01728521, -0.08016357, -0.03852814, -0.08155879,\n",
       "        -0.08748651, -0.07824767, -0.06853451, -0.12556753, -0.01878525,\n",
       "        -0.0020653 , -0.03757748,  0.0580766 , -0.08889726, -0.10419448,\n",
       "        -0.03191249, -0.0569279 , -0.02740192, -0.13363884, -0.07547192,\n",
       "        -0.11163398,  0.00933468,  0.0320005 , -0.07615491, -0.04189963,\n",
       "        -0.10936625, -0.00672979, -0.08985148, -0.02586163, -0.12787995,\n",
       "        -0.10712083, -0.05800823, -0.00823722, -0.08188566, -0.08003739,\n",
       "        -0.06712727, -0.08580386, -0.09596073, -0.07513454, -0.06890327,\n",
       "        -0.02353827,  0.01604826, -0.16203631, -0.11772756, -0.0707953 ,\n",
       "        -0.06691764, -0.07417412], dtype=float32)>]"
      ]
     },
     "execution_count": 17,
     "metadata": {},
     "output_type": "execute_result"
    }
   ],
   "source": [
    "model.layers[0].weights"
   ]
  },
  {
   "cell_type": "code",
   "execution_count": 18,
   "metadata": {},
   "outputs": [
    {
     "name": "stdout",
     "output_type": "stream",
     "text": [
      "313/313 [==============================] - 2s 8ms/step - loss: 0.1439 - accuracy: 0.9844\n"
     ]
    }
   ],
   "source": [
    "score = model.evaluate(x_test, y_test, verbose=1)"
   ]
  },
  {
   "cell_type": "code",
   "execution_count": 19,
   "metadata": {},
   "outputs": [
    {
     "name": "stdout",
     "output_type": "stream",
     "text": [
      "Test loss: 0.14391301572322845\n",
      "Test accuracy: 0.9844000339508057\n"
     ]
    }
   ],
   "source": [
    "print('Test loss:', score[0])\n",
    "print('Test accuracy:', score[1])"
   ]
  },
  {
   "cell_type": "code",
   "execution_count": 21,
   "metadata": {},
   "outputs": [
    {
     "data": {
      "image/png": "[encoded data removed]",
      "text/plain": [
       "<Figure size 640x480 with 1 Axes>"
      ]
     },
     "metadata": {},
     "output_type": "display_data"
    },
    {
     "data": {
      "text/plain": [
       "array([0., 0., 1., 0., 0., 0., 0., 0., 0., 0.], dtype=float32)"
      ]
     },
     "execution_count": 21,
     "metadata": {},
     "output_type": "execute_result"
    }
   ],
   "source": [
    "plt.imshow(x_test[1].reshape(28,28),cmap=plt.cm.binary)\n",
    "plt.show()\n",
    "\n",
    "y_test[1]"
   ]
  }
 ],
 "metadata": {
  "kernelspec": {
   "display_name": "Python 3",
   "language": "python",
   "name": "python3"
  },
  "language_info": {
   "codemirror_mode": {
    "name": "ipython",
    "version": 3
   },
   "file_extension": ".py",
   "mimetype": "text/x-python",
   "name": "python",
   "nbconvert_exporter": "python",
   "pygments_lexer": "ipython3",
   "version": "3.9.6"
  },
  "vscode": {
   "interpreter": {
    "hash": "31f2aee4e71d21fbe5cf8b01ff0e069b9275f58929596ceb00d14d90e3e16cd6"
   }
  }
 },
 "nbformat": 4,
 "nbformat_minor": 4
}
